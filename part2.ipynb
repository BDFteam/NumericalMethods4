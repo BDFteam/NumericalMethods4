{
 "cells": [
  {
   "cell_type": "markdown",
   "metadata": {},
   "source": [
    "# Part 2: Power Method"
   ]
  },
  {
   "cell_type": "code",
   "execution_count": 1,
   "metadata": {},
   "outputs": [],
   "source": [
    "import numpy as np"
   ]
  },
  {
   "cell_type": "markdown",
   "metadata": {},
   "source": [
    "#### 1. Implement the power method with normalization."
   ]
  },
  {
   "cell_type": "code",
   "execution_count": 139,
   "metadata": {},
   "outputs": [
    {
     "name": "stdout",
     "output_type": "stream",
     "text": [
      "Largest eigenvalue: 7.179335040371524, associated eigenvector: [ 0.59084255  0.24322828 -0.76543608 -0.07650288]\n"
     ]
    }
   ],
   "source": [
    "def power_method(matrix: np.ndarray, maximum_iterations: int):\n",
    "    x_k = np.random.rand(matrix.shape[1])\n",
    "    lmbda = 0\n",
    "\n",
    "    for _ in range(maximum_iterations):\n",
    "        z_k1 = np.dot(matrix, x_k)\n",
    "        x_k = z_k1 / np.linalg.norm(z_k1)\n",
    "        i = np.argmax(z_k1)\n",
    "        lmbda = z_k1[i]/x_k[i]\n",
    "\n",
    "    return lmbda, x_k\n",
    "A = np.array([[5, -1, -2, 0], [-1, 3, -2, -1], [-2, -2, 5, 0], [0, -1, 0, 4]])\n",
    "print(f\"Largest eigenvalue: {power_method(A, 100)[0]}, associated eigenvector: {power_method(A, 100)[1]}\")"
   ]
  },
  {
   "cell_type": "markdown",
   "metadata": {},
   "source": [
    "#### 2. Extend your function, to a new one, such that it takes an extra argument $\\epsilon = 10^{−5}$. Keep track on the number of iterations that you need to reach the precision $|λ(k+1) − λ(k)| ≤ ε$.\n"
   ]
  },
  {
   "cell_type": "code",
   "execution_count": null,
   "metadata": {},
   "outputs": [],
   "source": [
    "# def power_method(matrix: np.ndarray, maximum_iterations: int, acceptable_error: float):\n",
    "#     x_k = np.random.rand(matrix.shape[1])\n",
    "#     lmbda = 0\n",
    "\n",
    "#     for _ in range(maximum_iterations):\n",
    "#         z_k1 = np.dot(matrix, x_k)\n",
    "#         x_k = z_k1 / np.linalg.norm(z_k1)\n",
    "#         i = np.argmax(z_k1)\n",
    "#         lmbda = z_k1[i]/x_k[i]\n",
    "\n",
    "#     return lmbda, x_k"
   ]
  }
 ],
 "metadata": {
  "interpreter": {
   "hash": "1c7434731747d88815ea98a4470429bf1ebbf9287f8433fda1e0ecccc300fe0c"
  },
  "kernelspec": {
   "display_name": "Python 3.8.3 64-bit ('base': conda)",
   "language": "python",
   "name": "python3"
  },
  "language_info": {
   "codemirror_mode": {
    "name": "ipython",
    "version": 3
   },
   "file_extension": ".py",
   "mimetype": "text/x-python",
   "name": "python",
   "nbconvert_exporter": "python",
   "pygments_lexer": "ipython3",
   "version": "3.8.3"
  },
  "orig_nbformat": 4
 },
 "nbformat": 4,
 "nbformat_minor": 2
}
