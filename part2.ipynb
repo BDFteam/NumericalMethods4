{
 "cells": [
  {
   "cell_type": "markdown",
   "metadata": {},
   "source": [
    "# Part 2: Power Method"
   ]
  },
  {
   "cell_type": "code",
   "execution_count": 236,
   "metadata": {},
   "outputs": [],
   "source": [
    "import numpy as np"
   ]
  },
  {
   "cell_type": "markdown",
   "metadata": {},
   "source": [
    "#### 1. Implement the power method with normalization."
   ]
  },
  {
   "cell_type": "code",
   "execution_count": 237,
   "metadata": {},
   "outputs": [
    {
     "name": "stdout",
     "output_type": "stream",
     "text": [
      "Largest eigenvalue: 7.179335040371526, associated eigenvector: [ 0.59084255  0.24322828 -0.76543608 -0.07650288]\n"
     ]
    }
   ],
   "source": [
    "def power_method(matrix: np.ndarray, maximum_iterations: int):\r\n",
    "    x_k = np.random.rand(matrix.shape[1])\r\n",
    "    lmbda = 0\r\n",
    "    # deze werkt nog niet, fix komt eraan\r\n",
    "    for _ in range(maximum_iterations):\r\n",
    "        z_k1 = np.dot(matrix, x_k)\r\n",
    "        x_k = z_k1 / np.linalg.norm(z_k1)\r\n",
    "        i = np.argmax(z_k1)\r\n",
    "        lmbda = z_k1[i]/x_k[i]\r\n",
    "\r\n",
    "    return lmbda, x_k\r\n",
    "A = np.array([[5, -1, -2, 0], [-1, 3, -2, -1], [-2, -2, 5, 0], [0, -1, 0, 4]])\r\n",
    "print(f\"Largest eigenvalue: {power_method(A, 100)[0]}, associated eigenvector: {power_method(A, 100)[1]}\")"
   ]
  },
  {
   "cell_type": "markdown",
   "metadata": {},
   "source": [
    "#### 2. Extend your function, to a new one, such that it takes an extra argument $\\epsilon = 10^{−5}$. Keep track on the number of iterations that you need to reach the precision $|λ(k+1) − λ(k)| ≤ ε$.\n"
   ]
  },
  {
   "cell_type": "code",
   "execution_count": 238,
   "metadata": {},
   "outputs": [
    {
     "name": "stdout",
     "output_type": "stream",
     "text": [
      "Largest eigenvalue: 7.179325629535556, associated eigenvector: [-0.59204302 -0.2419544   0.76500422  0.07557561], iterations: 29\n"
     ]
    }
   ],
   "source": [
    "def power_method_limit(matrix: np.ndarray, maximum_iterations: int, epsln: float):\r\n",
    "    x_k = np.random.rand(matrix.shape[1])\r\n",
    "    oldlmbda = 0\r\n",
    "    lmbda = 0\r\n",
    "    itr = 0\r\n",
    "    for _ in range(maximum_iterations):\r\n",
    "        z_k1 = np.dot(matrix, x_k)\r\n",
    "        x_k = z_k1 / np.linalg.norm(z_k1)\r\n",
    "        i = np.argmax(z_k1)\r\n",
    "        oldlmbda = lmbda\r\n",
    "        lmbda = z_k1[i]/x_k[i]\r\n",
    "        itr += 1\r\n",
    "        if (np.abs(lmbda - oldlmbda) <= epsln):\r\n",
    "            break\r\n",
    "\r\n",
    "    return lmbda, x_k, itr\r\n",
    "A = np.array([[5, -1, -2, 0], [-1, 3, -2, -1], [-2, -2, 5, 0], [0, -1, 0, 4]])\r\n",
    "print(f\"Largest eigenvalue: {power_method_limit(A, 100, 1e-5)[0]}, associated eigenvector: {power_method_limit(A, 100, 1e-5)[1]}, iterations: {power_method_limit(A, 100, 1e-5)[2]}\")"
   ]
  },
  {
   "cell_type": "markdown",
   "metadata": {},
   "source": [
    "3.\r\n"
   ]
  },
  {
   "cell_type": "code",
   "execution_count": 239,
   "metadata": {},
   "outputs": [
    {
     "name": "stdout",
     "output_type": "stream",
     "text": [
      "Largest eigenvalue: 0.6800134552109338, associated eigenvector: [0.40745451 0.7180935  0.52107303 0.21634565], iterations: 6\n"
     ]
    }
   ],
   "source": [
    "def power_method_inverse(matrix: np.ndarray, maximum_iterations: int, epsln: float):\r\n",
    "    inverse_matrix = np.linalg.inv(matrix)\r\n",
    "    x_k = np.random.rand(inverse_matrix.shape[1])\r\n",
    "    oldlmbda = 0\r\n",
    "    lmbda = 0\r\n",
    "    itr = 0\r\n",
    "    \r\n",
    "    for _ in range(maximum_iterations):\r\n",
    "        z_k1 = np.dot(inverse_matrix, x_k)\r\n",
    "        x_k = z_k1 / np.linalg.norm(z_k1)\r\n",
    "        i = np.argmax(z_k1)\r\n",
    "        oldlmbda = lmbda\r\n",
    "        lmbda = z_k1[i]/x_k[i]\r\n",
    "        itr += 1\r\n",
    "        if (np.abs(lmbda - oldlmbda) <= epsln):\r\n",
    "            break\r\n",
    "    smallest_lbmda = 1/lmbda\r\n",
    "    return smallest_lbmda, x_k, itr\r\n",
    "A = np.array([[5, -1, -2, 0], [-1, 3, -2, -1], [-2, -2, 5, 0], [0, -1, 0, 4]])\r\n",
    "print(f\"Largest eigenvalue: {power_method_inverse(A, 100, 1e-5)[0]}, associated eigenvector: {power_method_inverse(A, 100, 1e-5)[1]}, iterations: {power_method_inverse(A, 100, 1e-5)[2]}\")"
   ]
  },
  {
   "cell_type": "markdown",
   "metadata": {},
   "source": [
    "4."
   ]
  },
  {
   "cell_type": "code",
   "execution_count": 240,
   "metadata": {},
   "outputs": [
    {
     "name": "stdout",
     "output_type": "stream",
     "text": [
      "Largest eigenvalue: 13.89131793477003, associated eigenvector: [-0.47493109 -0.56862423 -0.50800599 -0.4393596 ], iterations: 16\n"
     ]
    }
   ],
   "source": [
    "def power_method_shifted(matrix: np.ndarray, maximum_iterations: int, epsln: float, shift: int):\r\n",
    "    shifted_matrix = matrix - shift\r\n",
    "    x_k = np.random.rand(shifted_matrix.shape[1])\r\n",
    "    oldlmbda = 0\r\n",
    "    lmbda = 0\r\n",
    "    itr = 0\r\n",
    "    \r\n",
    "    for _ in range(maximum_iterations):\r\n",
    "        z_k1 = np.dot(shifted_matrix, x_k)\r\n",
    "        x_k = z_k1 / np.linalg.norm(z_k1)\r\n",
    "        i = np.argmax(z_k1)\r\n",
    "        oldlmbda = lmbda\r\n",
    "        lmbda = z_k1[i]/x_k[i]\r\n",
    "        itr += 1\r\n",
    "        if (np.abs(lmbda - oldlmbda) <= epsln):\r\n",
    "            break\r\n",
    "    furthest_lmbda = lmbda + shift\r\n",
    "    return furthest_lmbda, x_k, itr\r\n",
    "A = np.array([[5, -1, -2, 0], [-1, 3, -2, -1], [-2, -2, 5, 0], [0, -1, 0, 4]])\r\n",
    "print(f\"Largest eigenvalue: {power_method_shifted(A, 100, 1e-5, 3)[0]}, associated eigenvector: {power_method_shifted(A, 100, 1e-5, 3)[1]}, iterations: {power_method_shifted(A, 100, 1e-5, 3)[2]}\")"
   ]
  }
 ],
 "metadata": {
  "interpreter": {
   "hash": "1c7434731747d88815ea98a4470429bf1ebbf9287f8433fda1e0ecccc300fe0c"
  },
  "kernelspec": {
   "display_name": "Python 3.8.3 64-bit ('base': conda)",
   "language": "python",
   "name": "python3"
  },
  "language_info": {
   "codemirror_mode": {
    "name": "ipython",
    "version": 3
   },
   "file_extension": ".py",
   "mimetype": "text/x-python",
   "name": "python",
   "nbconvert_exporter": "python",
   "pygments_lexer": "ipython3",
   "version": "3.8.3"
  },
  "orig_nbformat": 4
 },
 "nbformat": 4,
 "nbformat_minor": 2
}