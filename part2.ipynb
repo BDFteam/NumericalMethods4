{
 "cells": [
  {
   "cell_type": "markdown",
   "metadata": {},
   "source": [
    "# Part 2: Power Method"
   ]
  },
  {
   "cell_type": "code",
   "execution_count": 2,
   "metadata": {},
   "outputs": [],
   "source": [
    "import numpy as np"
   ]
  },
  {
   "cell_type": "markdown",
   "metadata": {},
   "source": [
    "#### 1. Implement the power method with normalization."
   ]
  },
  {
   "cell_type": "code",
   "execution_count": 34,
   "metadata": {},
   "outputs": [
    {
     "name": "stdout",
     "output_type": "stream",
     "text": [
      "Largest eigenvalue: 7.179335040371524, associated eigenvector: [ 0.59084255  0.24322828 -0.76543608 -0.07650288]\n",
      "Ax = [ 4.24185663  1.74621733 -5.49532206 -0.5492398 ] = lambda x = [ 4.24185663  1.74621733 -5.49532206 -0.5492398 ]\n"
     ]
    }
   ],
   "source": [
    "def power_method(matrix: np.ndarray, maximum_iterations: int):\n",
    "    x_k = np.random.rand(matrix.shape[1])\n",
    "    lmbda = 0\n",
    "    # deze werkt nog niet, fix komt eraan\n",
    "    for _ in range(maximum_iterations):\n",
    "        z_k1 = np.dot(matrix, x_k)\n",
    "        x_k = z_k1 / np.linalg.norm(z_k1)\n",
    "        i = np.argmax(z_k1)\n",
    "        lmbda = z_k1[i]/x_k[i]\n",
    "\n",
    "    return lmbda, x_k\n",
    "A = np.array([[5, -1, -2, 0], [-1, 3, -2, -1], [-2, -2, 5, 0], [0, -1, 0, 4]])\n",
    "eigenvalue, eigenvector = power_method(A, 100)\n",
    "print(f\"Largest eigenvalue: {eigenvalue}, associated eigenvector: {eigenvector}\")\n",
    "print(f\"Ax = {A @ eigenvector} = lambda x = {eigenvalue * eigenvector}\")"
   ]
  },
  {
   "cell_type": "markdown",
   "metadata": {},
   "source": [
    "#### 2. Extend your function, to a new one, such that it takes an extra argument $\\epsilon = 10^{−5}$. Keep track on the number of iterations that you need to reach the precision $|λ(k+1) − λ(k)| ≤ ε$.\n"
   ]
  },
  {
   "cell_type": "code",
   "execution_count": 51,
   "metadata": {},
   "outputs": [
    {
     "name": "stdout",
     "output_type": "stream",
     "text": [
      "Largest eigenvalue: 7.179323467297241, associated eigenvector: [-0.58965722 -0.24448586  0.76585573  0.07743396], iterations: 27\n",
      "Ax = [-4.23551172 -1.7529458   5.49756483  0.55422172] = lambda x = [-4.23333994 -1.75524311  5.49832603  0.55592348]\n"
     ]
    }
   ],
   "source": [
    "def power_method_limit(matrix: np.ndarray, maximum_iterations: int, epsln: float):\n",
    "    x_k = np.random.rand(matrix.shape[1])\n",
    "    oldlmbda = 0\n",
    "    lmbda = 0\n",
    "    itr = 0\n",
    "    for _ in range(maximum_iterations):\n",
    "        z_k1 = np.dot(matrix, x_k)\n",
    "        x_k = z_k1 / np.linalg.norm(z_k1)\n",
    "        i = np.argmax(z_k1)\n",
    "        oldlmbda = lmbda\n",
    "        lmbda = z_k1[i]/x_k[i]\n",
    "        itr += 1\n",
    "        if (np.abs(lmbda - oldlmbda) <= epsln):\n",
    "            break\n",
    "\n",
    "    return lmbda, x_k, itr\n",
    "A = np.array([[5, -1, -2, 0], [-1, 3, -2, -1], [-2, -2, 5, 0], [0, -1, 0, 4]])\n",
    "eigenvalue_lim, eigenvector_lim, iterations_lim = power_method_limit(A, 100, 1e-5)\n",
    "print(f\"Largest eigenvalue: {eigenvalue_lim}, associated eigenvector: {eigenvector_lim}, iterations: {iterations_lim}\")\n",
    "print(f\"Ax = {A @ eigenvector_lim} = lambda x = {eigenvalue_lim * eigenvector_lim}\")\n"
   ]
  },
  {
   "cell_type": "markdown",
   "metadata": {},
   "source": [
    "3.\n"
   ]
  },
  {
   "cell_type": "code",
   "execution_count": 52,
   "metadata": {},
   "outputs": [
    {
     "name": "stdout",
     "output_type": "stream",
     "text": [
      "Largest eigenvalue: 0.6800134536157676, associated eigenvector: [0.40747751 0.71807889 0.52110163 0.21628194], iterations: 5\n",
      "Ax = [0.27710541 0.48827395 0.35439536 0.14704886] = lambda x = [0.27709019 0.4883033  0.35435612 0.14707463]\n"
     ]
    }
   ],
   "source": [
    "def power_method_inverse(matrix: np.ndarray, maximum_iterations: int, epsln: float):\n",
    "    inverse_matrix = np.linalg.inv(matrix)\n",
    "    x_k = np.random.rand(inverse_matrix.shape[1])\n",
    "    oldlmbda = 0\n",
    "    lmbda = 0\n",
    "    itr = 0\n",
    "    \n",
    "    for _ in range(maximum_iterations):\n",
    "        z_k1 = np.dot(inverse_matrix, x_k)\n",
    "        x_k = z_k1 / np.linalg.norm(z_k1)\n",
    "        i = np.argmax(z_k1)\n",
    "        oldlmbda = lmbda\n",
    "        lmbda = z_k1[i]/x_k[i]\n",
    "        itr += 1\n",
    "        if (np.abs(lmbda - oldlmbda) <= epsln):\n",
    "            break\n",
    "    smallest_lbmda = 1/lmbda\n",
    "    return smallest_lbmda, x_k, itr\n",
    "A = np.array([[5, -1, -2, 0], [-1, 3, -2, -1], [-2, -2, 5, 0], [0, -1, 0, 4]])\n",
    "eigenvalue_inv, eigenvector_inv, iterations_inv = power_method_inverse(A, 100, 1e-5)\n",
    "print(f\"Largest eigenvalue: {eigenvalue_inv}, associated eigenvector: {eigenvector_inv}, iterations: {iterations_inv}\")\n",
    "print(f\"Ax = {A @ eigenvector_inv} = lambda x = {eigenvalue_inv * eigenvector_inv}\")"
   ]
  },
  {
   "cell_type": "markdown",
   "metadata": {},
   "source": [
    "4."
   ]
  },
  {
   "cell_type": "code",
   "execution_count": 64,
   "metadata": {},
   "outputs": [
    {
     "name": "stdout",
     "output_type": "stream",
     "text": [
      "Largest eigenvalue: 13.891316940725346, associated eigenvector: [-0.47600324 -0.56914012 -0.50655879 -0.43920227], iterations: 11\n",
      "Ax = [-0.79775851  0.22090274 -0.44250722 -1.18766897] = lambda x = [-6.61231187 -7.90610576 -7.03676867 -6.10109797]\n"
     ]
    }
   ],
   "source": [
    "def power_method_shifted(matrix: np.ndarray, maximum_iterations: int, epsln: float, shift: int):\n",
    "    shifted_matrix = matrix - shift\n",
    "    x_k = np.random.rand(shifted_matrix.shape[1])\n",
    "    oldlmbda = 0\n",
    "    lmbda = 0\n",
    "    itr = 0\n",
    "    \n",
    "    for _ in range(maximum_iterations):\n",
    "        z_k1 = np.dot(shifted_matrix, x_k)\n",
    "        x_k = z_k1 / np.linalg.norm(z_k1)\n",
    "        i = np.argmax(z_k1)\n",
    "        oldlmbda = lmbda\n",
    "        lmbda = z_k1[i]/x_k[i]\n",
    "        itr += 1\n",
    "        if (np.abs(lmbda - oldlmbda) <= epsln):\n",
    "            break\n",
    "    furthest_lmbda = lmbda + shift\n",
    "    return furthest_lmbda, x_k, itr\n",
    "A = np.array([[5, -1, -2, 0], [-1, 3, -2, -1], [-2, -2, 5, 0], [0, -1, 0, 4]])\n",
    "eigenvalue_shift, eigenvector_shift, iterations_shift = power_method_shifted(A, 100, 1e-5, 3)\n",
    "print(f\"Largest eigenvalue: {eigenvalue_shift}, associated eigenvector: {eigenvector_shift}, iterations: {iterations_shift}\")\n",
    "print(f\"Ax = {A @ eigenvector_shift} = lambda x = {eigenvalue_shift * eigenvector_shift}\")"
   ]
  }
 ],
 "metadata": {
  "interpreter": {
   "hash": "1c7434731747d88815ea98a4470429bf1ebbf9287f8433fda1e0ecccc300fe0c"
  },
  "kernelspec": {
   "display_name": "Python 3.8.3 64-bit ('base': conda)",
   "language": "python",
   "name": "python3"
  },
  "language_info": {
   "codemirror_mode": {
    "name": "ipython",
    "version": 3
   },
   "file_extension": ".py",
   "mimetype": "text/x-python",
   "name": "python",
   "nbconvert_exporter": "python",
   "pygments_lexer": "ipython3",
   "version": "3.8.3"
  },
  "orig_nbformat": 4
 },
 "nbformat": 4,
 "nbformat_minor": 2
}
